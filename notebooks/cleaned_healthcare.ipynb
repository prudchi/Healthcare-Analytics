{
  "nbformat": 4,
  "nbformat_minor": 0,
  "metadata": {
    "colab": {
      "provenance": []
    },
    "kernelspec": {
      "name": "python3",
      "display_name": "Python 3"
    },
    "language_info": {
      "name": "python"
    }
  },
  "cells": [
    {
      "cell_type": "markdown",
      "source": [
        "# Healthcare Data Cleaning and EDA\n",
        "\n",
        "This notebook prepares a synthetic healthcare dataset for visualization in Power BI. It involves cleaning steps, exploratory data analysis (EDA), and exporting a clean dataset.\n",
        "\n",
        "---\n",
        "\n",
        "## 1. Mount Google Drive\n",
        "Load the dataset stored in Google Drive.\n",
        "\n",
        "Read the csv file using Pandas."
      ],
      "metadata": {
        "id": "MrpJ-BvXUk5y"
      }
    },
    {
      "cell_type": "code",
      "execution_count": 2,
      "metadata": {
        "colab": {
          "base_uri": "https://localhost:8080/"
        },
        "id": "kyOVdga5PIOy",
        "outputId": "4b67ea3c-d5b8-43e0-9e72-f86366f99677"
      },
      "outputs": [
        {
          "output_type": "stream",
          "name": "stdout",
          "text": [
            "Mounted at /content/drive\n"
          ]
        }
      ],
      "source": [
        "from google.colab import drive\n",
        "drive.mount('/content/drive')"
      ]
    },
    {
      "cell_type": "markdown",
      "source": [
        "##Data Cleaning and Preparation Steps\n",
        "\n",
        "*   Checked for missing values in each column\n",
        "*   Identified duplicate rows, and removed them to ensure data quality\n",
        "*   Converted date columns from string to datetime objects for easier date manipulation, and renamed \"Date of Admission\" to \"Admission Date\"\n",
        "*   Standardized the patient names by capitalizing the first letter of each word\n",
        "*   Rounded the billing amounts to two decimal places for consistency\n",
        "\n",
        "\n",
        "\n"
      ],
      "metadata": {
        "id": "5Rw6euq9UptZ"
      }
    },
    {
      "cell_type": "code",
      "source": [
        "import pandas as pd\n",
        "\n",
        "file_path = '/content/drive/My Drive/DataSets/healthcare_dataset.csv'\n",
        "\n",
        "df = pd.read_csv(file_path)\n",
        "\n",
        "df.head()\n",
        "\n",
        "#Extra Info\n",
        "# print(df.info())\n",
        "df.isnull().sum()\n",
        "df.duplicated().sum() #534 duplicates\n",
        "# df.dtypes\n",
        "# df.columns\n",
        "\n",
        "# # Drop the duplicates\n",
        "df.drop_duplicates(inplace=True)\n",
        "\n",
        "#Change date of admission and discharge date into a date object and rename to Admission date:\n",
        "df['Date of Admission'] = pd.to_datetime(df['Date of Admission'], errors='coerce')\n",
        "df['Discharge Date'] = pd.to_datetime(df['Discharge Date'], errors='coerce')\n",
        "df.rename(columns={'Date of Admission':'Admission Date'}, inplace=True)\n",
        "\n",
        "#Fix name column, make all proper\n",
        "df['Name'] = df['Name'].str.title()\n",
        "df.head()\n",
        "\n",
        "#Fix billing amount into two decimal\n",
        "df['Billing Amount'] = df['Billing Amount'].apply(lambda x: round(x,2))\n",
        "df.head()\n",
        "\n",
        "#Look at values in Gender column, and fix if inconsistencies found:\n",
        "df['Gender'].value_counts()\n",
        "\n",
        "#Hospital column:\n",
        "df['Hospital']= df['Hospital'].str.strip()\n",
        "df['Hospital'] = df['Hospital'].str.replace(r'and$', '', regex=True)\n",
        "df['Hospital'] = df['Hospital'].str.replace(r'^and','',regex=True)\n",
        "df['Hospital'] = df['Hospital'].str.replace(',','')\n",
        "df['Hospital']= df['Hospital'].str.strip()\n",
        "\n"
      ],
      "metadata": {
        "id": "RRu9yMzYQNCY"
      },
      "execution_count": 3,
      "outputs": []
    },
    {
      "cell_type": "markdown",
      "source": [
        "## 3. Exploratory Data Analysis (EDA)\n",
        "- Gender distribution\n",
        "- Most common medical conditions\n",
        "- Average and grouped ages\n",
        "- Insurance and billing analysis\n",
        "- Most prescribed medications\n"
      ],
      "metadata": {
        "id": "AUn6QtxuUwAR"
      }
    },
    {
      "cell_type": "code",
      "source": [
        "import pandas as pd\n",
        "\n",
        "#send the final cleaning cell\n",
        "\n",
        "# Performing EDA to find any useful information\n",
        "df.head()\n",
        "\n",
        "print(\"Gender distribution of our patients\")\n",
        "\n",
        "gender_dist = df['Gender'].value_counts()\n",
        "print(gender_dist)\n",
        "# gender_dist.plot(kind='pie')\n",
        "\n",
        "print('Most common medical condition')\n",
        "top_conditions = df['Medical Condition'].value_counts().head(10)\n",
        "print(top_conditions)\n",
        "\n",
        "print('Average age of our patients:')\n",
        "print(df['Age'].mean().round(2))\n",
        "\n",
        "print('General Age Stats:')\n",
        "print(df['Age'].describe())\n",
        "\n",
        "print('Age Group column based off ages:')\n",
        "\n",
        "# Define age bins and labels\n",
        "bins = [0, 17, 35, 50, 65, 120]\n",
        "labels = ['0-17', '18-35', '36-50', '51-65', '66+']\n",
        "\n",
        "# Create Age Group column\n",
        "df['Age Group'] = pd.cut(df['Age'], bins=bins, labels=labels, right=True)\n",
        "df['Age Group']\n",
        "\n",
        "print('Insurance Provider most patients:')\n",
        "insurance_count = df['Insurance Provider'].value_counts()\n",
        "print(insurance_count)\n",
        "\n",
        "print('Total billing amount per insurance provider')\n",
        "group_insurance = df.groupby('Insurance Provider')['Billing Amount'].sum().sort_values(ascending=False)\n",
        "print(group_insurance)\n",
        "\n",
        "\n",
        "print('Average billing amount per insurance provider')\n",
        "average_insurance = df.groupby('Insurance Provider')['Billing Amount'].mean().round(2).sort_values(ascending=False)\n",
        "print(average_insurance)\n",
        "\n",
        "print('Most prescribed medicine:')\n",
        "most_prescription = df['Medication'].value_counts()\n",
        "print(most_prescription)\n",
        "\n",
        "print('Most common blood type:')\n",
        "commom_blood = df['Blood Type'].value_counts()\n",
        "print(commom_blood)\n",
        "\n",
        "print('Most common admission type:')\n",
        "common_admission = df['Admission Type'].value_counts()\n",
        "print(common_admission)"
      ],
      "metadata": {
        "collapsed": true,
        "colab": {
          "base_uri": "https://localhost:8080/"
        },
        "id": "CCWkVB1cmgjj",
        "outputId": "6d7997aa-347d-4f88-ff40-38c20ccd2d00"
      },
      "execution_count": 22,
      "outputs": [
        {
          "output_type": "stream",
          "name": "stdout",
          "text": [
            "Gender distribution of our patients\n",
            "Gender\n",
            "Male      27496\n",
            "Female    27470\n",
            "Name: count, dtype: int64\n",
            "Most common medical condition\n",
            "Medical Condition\n",
            "Arthritis       9218\n",
            "Diabetes        9216\n",
            "Hypertension    9151\n",
            "Obesity         9146\n",
            "Cancer          9140\n",
            "Asthma          9095\n",
            "Name: count, dtype: int64\n",
            "Average age of our patients:\n",
            "51.54\n",
            "General Age Stats:\n",
            "count    54966.000000\n",
            "mean        51.535185\n",
            "std         19.605661\n",
            "min         13.000000\n",
            "25%         35.000000\n",
            "50%         52.000000\n",
            "75%         68.000000\n",
            "max         89.000000\n",
            "Name: Age, dtype: float64\n",
            "Age Group column based off ages:\n",
            "Insurance Provider most patients:\n",
            "Insurance Provider\n",
            "Cigna               11139\n",
            "Medicare            11039\n",
            "UnitedHealthcare    11014\n",
            "Blue Cross          10952\n",
            "Aetna               10822\n",
            "Name: count, dtype: int64\n",
            "Total billing amount per insurance provider\n",
            "Insurance Provider\n",
            "Cigna               2.843341e+08\n",
            "Medicare            2.829110e+08\n",
            "Blue Cross          2.804091e+08\n",
            "UnitedHealthcare    2.799154e+08\n",
            "Aetna               2.764987e+08\n",
            "Name: Billing Amount, dtype: float64\n",
            "Average billing amount per insurance provider\n",
            "Insurance Provider\n",
            "Medicare            25628.32\n",
            "Blue Cross          25603.46\n",
            "Aetna               25549.69\n",
            "Cigna               25526.00\n",
            "UnitedHealthcare    25414.51\n",
            "Name: Billing Amount, dtype: float64\n",
            "Most prescribed medicine:\n",
            "Medication\n",
            "Lipitor        11038\n",
            "Ibuprofen      11023\n",
            "Aspirin        10984\n",
            "Paracetamol    10965\n",
            "Penicillin     10956\n",
            "Name: count, dtype: int64\n",
            "Most common blood type:\n",
            "Blood Type\n",
            "A-     6898\n",
            "A+     6896\n",
            "B+     6885\n",
            "AB+    6882\n",
            "AB-    6874\n",
            "B-     6872\n",
            "O+     6855\n",
            "O-     6804\n",
            "Name: count, dtype: int64\n",
            "Most common admission type:\n",
            "Admission Type\n",
            "Elective     18473\n",
            "Urgent       18391\n",
            "Emergency    18102\n",
            "Name: count, dtype: int64\n"
          ]
        }
      ]
    },
    {
      "cell_type": "markdown",
      "source": [
        "## 4. Export Cleaned Data\n",
        "Save the cleaned dataset for Power BI visualization.\n"
      ],
      "metadata": {
        "id": "ebCOeftcU51x"
      }
    },
    {
      "cell_type": "code",
      "source": [
        "df.to_csv('/content/drive/My Drive/DataSets/cleaned_healthcare_dataset.csv', index=False)"
      ],
      "metadata": {
        "id": "-RwsbDX-S5MX"
      },
      "execution_count": 25,
      "outputs": []
    }
  ]
}